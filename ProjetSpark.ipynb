{
  "cells": [
    {
      "cell_type": "markdown",
      "id": "ecc07873",
      "metadata": {
        "id": "ecc07873"
      },
      "source": [
        "### **Link of repo in Github :**\n"
      ]
    },
    {
      "cell_type": "raw",
      "id": "47eae090",
      "metadata": {
        "id": "47eae090"
      },
      "source": [
        "This GitHub repository showcases our NYC taxi data analysis project, complete with PySpark scripts, enriched datasets, and a meticulously crafted academic report. Through our code, we decipher taxi utilization, inter-borough trips, and average wait times.\n",
        "Here the link : https://github.com/saadbelaouad/TP_Spark_LAB"
      ]
    },
    {
      "cell_type": "markdown",
      "id": "2aee88d9",
      "metadata": {
        "id": "2aee88d9"
      },
      "source": [
        "## **Import libraries**"
      ]
    },
    {
      "cell_type": "code",
      "execution_count": null,
      "id": "a35e6d3a",
      "metadata": {
        "id": "a35e6d3a"
      },
      "outputs": [],
      "source": [
        "from pyspark.sql import SparkSession\n",
        "from pyspark.sql.functions import isnan, when, count, col\n",
        "from shapely.geometry import shape, Point\n",
        "from pyspark.sql.functions import *\n",
        "from pyspark.sql import Window\n",
        "from pyspark.sql.types import *\n",
        "import pandas as pd\n",
        "import geopandas as gpd\n",
        "\n",
        "import json\n",
        "from matplotlib import pyplot as plt"
      ]
    },
    {
      "cell_type": "markdown",
      "id": "f2a8df1a",
      "metadata": {
        "id": "f2a8df1a"
      },
      "source": [
        "## **Create Spark Session**"
      ]
    },
    {
      "cell_type": "code",
      "execution_count": null,
      "id": "7e3d34e2",
      "metadata": {
        "id": "7e3d34e2"
      },
      "outputs": [],
      "source": [
        "# Set the configuration for native Hadoop libraries\n",
        "spark = SparkSession.builder.appName(\"MySparkApp\").config(\"spark.hadoop.fs.AbstractFileSystem.s3a.impl\", \"org.apache.hadoop.fs.s3a.S3AFileSystem\").getOrCreate()\n"
      ]
    },
    {
      "cell_type": "code",
      "execution_count": null,
      "id": "1f9f4775",
      "metadata": {
        "id": "1f9f4775"
      },
      "outputs": [],
      "source": [
        "spark.conf.set(\"spark.hadoop.fs.AbstractFileSystem.s3a.impl\", \"org.apache.hadoop.fs.s3a.S3AFileSystem\")\n"
      ]
    },
    {
      "cell_type": "markdown",
      "id": "908fdc75",
      "metadata": {
        "id": "908fdc75"
      },
      "source": [
        "## ***Extraction***"
      ]
    },
    {
      "cell_type": "code",
      "execution_count": null,
      "id": "76001df2",
      "metadata": {
        "id": "76001df2"
      },
      "outputs": [],
      "source": [
        "# Initialize SparkSession\n",
        "spark = SparkSession.builder \\\n",
        "    .appName(\"MySparkApp\") \\\n",
        "    .getOrCreate()\n",
        "\n",
        "df = spark.read.csv(\"Sample NYC Data.csv\", header=True, inferSchema=True)\n"
      ]
    },
    {
      "cell_type": "code",
      "execution_count": null,
      "id": "aa9818b1",
      "metadata": {
        "id": "aa9818b1",
        "outputId": "3a43f744-a3e9-4ec2-a828-30e925f4078c"
      },
      "outputs": [
        {
          "name": "stdout",
          "output_type": "stream",
          "text": [
            "+--------------------+--------------------+---------+---------+------------------+---------------+----------------+---------------+----------------+---------------+-----------------+----------------+\n",
            "|           medallion|        hack_license|vendor_id|rate_code|store_and_fwd_flag|pickup_datetime|dropoff_datetime|passenger_count|pickup_longitude|pickup_latitude|dropoff_longitude|dropoff_latitude|\n",
            "+--------------------+--------------------+---------+---------+------------------+---------------+----------------+---------------+----------------+---------------+-----------------+----------------+\n",
            "|89D227B655E5C82AE...|BA96DE419E711691B...|      CMT|        1|                 N| 01-01-13 15:11|  01-01-13 15:18|              4|      -73.978165|      40.757977|       -73.989838|       40.751171|\n",
            "|0BD7C8F5BA12B88E0...|9FD8F69F0804BDB55...|      CMT|        1|                 N|  06-01-13 0:18|   06-01-13 0:22|              1|      -74.006683|      40.731781|       -73.994499|        40.75066|\n",
            "|0BD7C8F5BA12B88E0...|9FD8F69F0804BDB55...|      CMT|        1|                 N| 05-01-13 18:49|  05-01-13 18:54|              1|      -74.004707|       40.73777|       -74.009834|       40.726002|\n",
            "|DFD2202EE08F7A8DC...|51EE87E3205C985EF...|      CMT|        1|                 N| 07-01-13 23:54|  07-01-13 23:58|              2|      -73.974602|      40.759945|       -73.984734|       40.759388|\n",
            "|DFD2202EE08F7A8DC...|51EE87E3205C985EF...|      CMT|        1|                 N| 07-01-13 23:25|  07-01-13 23:34|              1|       -73.97625|      40.748528|       -74.002586|       40.747868|\n",
            "|20D9ECB2CA0767CF7...|598CCE5B9C1918568...|      CMT|        1|                 N| 07-01-13 15:27|  07-01-13 15:38|              1|      -73.966743|      40.764252|       -73.983322|       40.743763|\n",
            "|496644932DF393260...|513189AD756FF14FE...|      CMT|        1|                 N| 08-01-13 11:01|  08-01-13 11:08|              1|      -73.995804|      40.743977|       -74.007416|       40.744343|\n",
            "|0B57B9633A2FECD3D...|CCD4367B417ED6634...|      CMT|        1|                 N| 07-01-13 12:39|  07-01-13 13:10|              3|      -73.989937|      40.756775|        -73.86525|        40.77063|\n",
            "|2C0E91FF20A856C89...|1DA2F6543A62B8ED9...|      CMT|        1|                 N| 07-01-13 18:15|  07-01-13 18:20|              1|      -73.980072|      40.743137|       -73.982712|       40.735336|\n",
            "|2D4B95E2FA7B2E851...|CD2F522EEE1FF5F5A...|      CMT|        1|                 N| 07-01-13 15:33|  07-01-13 15:49|              2|      -73.977936|      40.786983|       -73.952919|        40.80637|\n",
            "|E12F6AF991172EAC3...|06918214E951FA000...|      CMT|        1|                 N| 08-01-13 13:11|  08-01-13 13:19|              1|      -73.982452|      40.773167|       -73.964134|       40.773815|\n",
            "|E12F6AF991172EAC3...|06918214E951FA000...|      CMT|        1|                 N|  08-01-13 9:50|  08-01-13 10:02|              1|       -73.99556|      40.749294|       -73.988686|       40.759052|\n",
            "|78FFD9CD0CDA541F3...|E949C583ECF62C8F0...|      CMT|        1|                 N| 10-01-13 12:07|  10-01-13 12:17|              1|      -73.971497|      40.791321|       -73.964478|       40.775921|\n",
            "|237F49C3ECC11F502...|93C363DDF8ED9385D...|      CMT|        1|                 N|  07-01-13 7:35|   07-01-13 7:46|              1|       -73.98851|      40.774307|       -73.981094|       40.755325|\n",
            "|3349F919AA8AE5DC9...|7CE849FEF67514F08...|      CMT|        1|                 N| 10-01-13 15:42|  10-01-13 16:04|              1|      -73.994911|      40.723221|       -73.971558|       40.761612|\n",
            "|3349F919AA8AE5DC9...|7CE849FEF67514F08...|      CMT|        1|                 N| 10-01-13 14:27|  10-01-13 14:45|              1|      -74.010391|      40.708702|       -73.987846|       40.756104|\n",
            "|4C005EEBAA7BF26B8...|351BE7D984BE17DB2...|      CMT|        1|                 N| 07-01-13 22:09|  07-01-13 22:19|              1|      -73.973732|      40.756287|       -73.998413|       40.756832|\n",
            "|7D99C30FCE69B1A9D...|460C3F57DD9CB2265...|      CMT|        1|                 N| 07-01-13 17:18|  07-01-13 17:20|              1|      -73.968925|      40.767704|        -73.96199|       40.776566|\n",
            "|E6FBF80668FE0611A...|36773E80775F26CD1...|      CMT|        1|                 N|  07-01-13 6:08|   07-01-13 6:13|              1|       -73.96212|      40.769737|       -73.979561|        40.75539|\n",
            "|0C5296F3C8B16E702...|D2363240A9295EF57...|      CMT|        1|                 N| 07-01-13 22:25|  07-01-13 22:36|              1|      -73.989708|      40.756714|       -73.977615|       40.787575|\n",
            "+--------------------+--------------------+---------+---------+------------------+---------------+----------------+---------------+----------------+---------------+-----------------+----------------+\n",
            "only showing top 20 rows\n",
            "\n"
          ]
        }
      ],
      "source": [
        "df.show()"
      ]
    },
    {
      "cell_type": "markdown",
      "id": "98ca30e2",
      "metadata": {
        "id": "98ca30e2"
      },
      "source": [
        "## **Preprocessing**"
      ]
    },
    {
      "cell_type": "code",
      "execution_count": null,
      "id": "434db473",
      "metadata": {
        "id": "434db473"
      },
      "outputs": [],
      "source": [
        "df1=df.alias('df')"
      ]
    },
    {
      "cell_type": "code",
      "execution_count": null,
      "id": "134c5eb6",
      "metadata": {
        "id": "134c5eb6"
      },
      "outputs": [],
      "source": [
        "df1=df1.select(\"medallion\",\"hack_license\",\"pickup_datetime\",\"dropoff_datetime\",\"passenger_count\",\"pickup_longitude\",\"pickup_latitude\",\"dropoff_longitude\",\"dropoff_latitude\")"
      ]
    },
    {
      "cell_type": "code",
      "execution_count": null,
      "id": "739ac9b6",
      "metadata": {
        "collapsed": true,
        "jupyter": {
          "outputs_hidden": true
        },
        "id": "739ac9b6",
        "outputId": "fce29ecc-380c-4028-d34f-8716b4fa90a6"
      },
      "outputs": [
        {
          "name": "stdout",
          "output_type": "stream",
          "text": [
            "+--------------------+--------------------+---------------+----------------+---------------+----------------+---------------+-----------------+----------------+\n",
            "|           medallion|        hack_license|pickup_datetime|dropoff_datetime|passenger_count|pickup_longitude|pickup_latitude|dropoff_longitude|dropoff_latitude|\n",
            "+--------------------+--------------------+---------------+----------------+---------------+----------------+---------------+-----------------+----------------+\n",
            "|89D227B655E5C82AE...|BA96DE419E711691B...| 01-01-13 15:11|  01-01-13 15:18|              4|      -73.978165|      40.757977|       -73.989838|       40.751171|\n",
            "|0BD7C8F5BA12B88E0...|9FD8F69F0804BDB55...|  06-01-13 0:18|   06-01-13 0:22|              1|      -74.006683|      40.731781|       -73.994499|        40.75066|\n",
            "|0BD7C8F5BA12B88E0...|9FD8F69F0804BDB55...| 05-01-13 18:49|  05-01-13 18:54|              1|      -74.004707|       40.73777|       -74.009834|       40.726002|\n",
            "|DFD2202EE08F7A8DC...|51EE87E3205C985EF...| 07-01-13 23:54|  07-01-13 23:58|              2|      -73.974602|      40.759945|       -73.984734|       40.759388|\n",
            "|DFD2202EE08F7A8DC...|51EE87E3205C985EF...| 07-01-13 23:25|  07-01-13 23:34|              1|       -73.97625|      40.748528|       -74.002586|       40.747868|\n",
            "|20D9ECB2CA0767CF7...|598CCE5B9C1918568...| 07-01-13 15:27|  07-01-13 15:38|              1|      -73.966743|      40.764252|       -73.983322|       40.743763|\n",
            "|496644932DF393260...|513189AD756FF14FE...| 08-01-13 11:01|  08-01-13 11:08|              1|      -73.995804|      40.743977|       -74.007416|       40.744343|\n",
            "|0B57B9633A2FECD3D...|CCD4367B417ED6634...| 07-01-13 12:39|  07-01-13 13:10|              3|      -73.989937|      40.756775|        -73.86525|        40.77063|\n",
            "|2C0E91FF20A856C89...|1DA2F6543A62B8ED9...| 07-01-13 18:15|  07-01-13 18:20|              1|      -73.980072|      40.743137|       -73.982712|       40.735336|\n",
            "|2D4B95E2FA7B2E851...|CD2F522EEE1FF5F5A...| 07-01-13 15:33|  07-01-13 15:49|              2|      -73.977936|      40.786983|       -73.952919|        40.80637|\n",
            "|E12F6AF991172EAC3...|06918214E951FA000...| 08-01-13 13:11|  08-01-13 13:19|              1|      -73.982452|      40.773167|       -73.964134|       40.773815|\n",
            "|E12F6AF991172EAC3...|06918214E951FA000...|  08-01-13 9:50|  08-01-13 10:02|              1|       -73.99556|      40.749294|       -73.988686|       40.759052|\n",
            "|78FFD9CD0CDA541F3...|E949C583ECF62C8F0...| 10-01-13 12:07|  10-01-13 12:17|              1|      -73.971497|      40.791321|       -73.964478|       40.775921|\n",
            "|237F49C3ECC11F502...|93C363DDF8ED9385D...|  07-01-13 7:35|   07-01-13 7:46|              1|       -73.98851|      40.774307|       -73.981094|       40.755325|\n",
            "|3349F919AA8AE5DC9...|7CE849FEF67514F08...| 10-01-13 15:42|  10-01-13 16:04|              1|      -73.994911|      40.723221|       -73.971558|       40.761612|\n",
            "|3349F919AA8AE5DC9...|7CE849FEF67514F08...| 10-01-13 14:27|  10-01-13 14:45|              1|      -74.010391|      40.708702|       -73.987846|       40.756104|\n",
            "|4C005EEBAA7BF26B8...|351BE7D984BE17DB2...| 07-01-13 22:09|  07-01-13 22:19|              1|      -73.973732|      40.756287|       -73.998413|       40.756832|\n",
            "|7D99C30FCE69B1A9D...|460C3F57DD9CB2265...| 07-01-13 17:18|  07-01-13 17:20|              1|      -73.968925|      40.767704|        -73.96199|       40.776566|\n",
            "|E6FBF80668FE0611A...|36773E80775F26CD1...|  07-01-13 6:08|   07-01-13 6:13|              1|       -73.96212|      40.769737|       -73.979561|        40.75539|\n",
            "|0C5296F3C8B16E702...|D2363240A9295EF57...| 07-01-13 22:25|  07-01-13 22:36|              1|      -73.989708|      40.756714|       -73.977615|       40.787575|\n",
            "+--------------------+--------------------+---------------+----------------+---------------+----------------+---------------+-----------------+----------------+\n",
            "only showing top 20 rows\n",
            "\n"
          ]
        }
      ],
      "source": [
        "df1.show()"
      ]
    },
    {
      "cell_type": "code",
      "execution_count": null,
      "id": "8f0e1288",
      "metadata": {
        "id": "8f0e1288",
        "outputId": "78eeb4d7-d110-4852-e1cf-e962f644db59"
      },
      "outputs": [
        {
          "name": "stdout",
          "output_type": "stream",
          "text": [
            "root\n",
            " |-- medallion: string (nullable = true)\n",
            " |-- hack_license: string (nullable = true)\n",
            " |-- pickup_datetime: string (nullable = true)\n",
            " |-- dropoff_datetime: string (nullable = true)\n",
            " |-- passenger_count: integer (nullable = true)\n",
            " |-- pickup_longitude: double (nullable = true)\n",
            " |-- pickup_latitude: double (nullable = true)\n",
            " |-- dropoff_longitude: double (nullable = true)\n",
            " |-- dropoff_latitude: double (nullable = true)\n",
            "\n"
          ]
        }
      ],
      "source": [
        "df1.printSchema()"
      ]
    },
    {
      "cell_type": "code",
      "execution_count": null,
      "id": "528aa999",
      "metadata": {
        "id": "528aa999",
        "outputId": "e713499c-3b09-40a8-e9b2-6648991271d1"
      },
      "outputs": [
        {
          "data": {
            "text/html": [
              "<div>\n",
              "<style scoped>\n",
              "    .dataframe tbody tr th:only-of-type {\n",
              "        vertical-align: middle;\n",
              "    }\n",
              "\n",
              "    .dataframe tbody tr th {\n",
              "        vertical-align: top;\n",
              "    }\n",
              "\n",
              "    .dataframe thead th {\n",
              "        text-align: right;\n",
              "    }\n",
              "</style>\n",
              "<table border=\"1\" class=\"dataframe\">\n",
              "  <thead>\n",
              "    <tr style=\"text-align: right;\">\n",
              "      <th></th>\n",
              "      <th>summary</th>\n",
              "      <th>passenger_count</th>\n",
              "    </tr>\n",
              "  </thead>\n",
              "  <tbody>\n",
              "    <tr>\n",
              "      <th>0</th>\n",
              "      <td>count</td>\n",
              "      <td>99999</td>\n",
              "    </tr>\n",
              "    <tr>\n",
              "      <th>1</th>\n",
              "      <td>mean</td>\n",
              "      <td>2.1630016300163</td>\n",
              "    </tr>\n",
              "    <tr>\n",
              "      <th>2</th>\n",
              "      <td>stddev</td>\n",
              "      <td>1.7398882948433556</td>\n",
              "    </tr>\n",
              "    <tr>\n",
              "      <th>3</th>\n",
              "      <td>min</td>\n",
              "      <td>0</td>\n",
              "    </tr>\n",
              "    <tr>\n",
              "      <th>4</th>\n",
              "      <td>max</td>\n",
              "      <td>6</td>\n",
              "    </tr>\n",
              "  </tbody>\n",
              "</table>\n",
              "</div>"
            ],
            "text/plain": [
              "  summary     passenger_count\n",
              "0   count               99999\n",
              "1    mean     2.1630016300163\n",
              "2  stddev  1.7398882948433556\n",
              "3     min                   0\n",
              "4     max                   6"
            ]
          },
          "execution_count": 53,
          "metadata": {},
          "output_type": "execute_result"
        }
      ],
      "source": [
        "df1.select('passenger_count').describe().toPandas()"
      ]
    },
    {
      "cell_type": "code",
      "execution_count": null,
      "id": "397cf137",
      "metadata": {
        "id": "397cf137",
        "outputId": "f9863baf-3509-47aa-9558-65d1cf298bbd"
      },
      "outputs": [
        {
          "data": {
            "image/png": "[encoded data removed]",
            "text/plain": [
              "<Figure size 1000x600 with 1 Axes>"
            ]
          },
          "metadata": {},
          "output_type": "display_data"
        }
      ],
      "source": [
        "# Sélectionnez la colonne des passagers\n",
        "passenger_count = df1.select(\"passenger_count\")\n",
        "\n",
        "# Convertissez la colonne en liste Python\n",
        "passenger_count_list = passenger_count.rdd.flatMap(lambda x: x).collect()\n",
        "\n",
        "# Créez un histogramme\n",
        "plt.figure(figsize=(10, 6))\n",
        "plt.hist(passenger_count_list, bins=range(1, 7), align='left', rwidth=0.8)\n",
        "plt.xlabel(\"Nombre de passagers\")\n",
        "plt.ylabel(\"Nombre de trajets\")\n",
        "plt.title(\"Distribution du nombre de passagers par trajet\")\n",
        "plt.xticks(range(1, 7))\n",
        "plt.grid(axis='y', alpha=0.75)\n",
        "\n",
        "# Affichez l'histogramme\n",
        "plt.show()"
      ]
    },
    {
      "cell_type": "code",
      "execution_count": null,
      "id": "502fbd57",
      "metadata": {
        "id": "502fbd57",
        "outputId": "753a91ea-5d6f-4d44-a25f-db9912d78759"
      },
      "outputs": [
        {
          "name": "stdout",
          "output_type": "stream",
          "text": [
            "+---------+------------+---------------+----------------+---------------+----------------+---------------+-----------------+----------------+\n",
            "|medallion|hack_license|pickup_datetime|dropoff_datetime|passenger_count|pickup_longitude|pickup_latitude|dropoff_longitude|dropoff_latitude|\n",
            "+---------+------------+---------------+----------------+---------------+----------------+---------------+-----------------+----------------+\n",
            "|        0|           0|              0|               0|              0|               0|              0|                0|               0|\n",
            "+---------+------------+---------------+----------------+---------------+----------------+---------------+-----------------+----------------+\n",
            "\n"
          ]
        }
      ],
      "source": [
        "null_counts = df1.select([sum(col(c).isNull().cast(\"int\")).alias(c) for c in df1.columns])\n",
        "null_counts.show()"
      ]
    },
    {
      "cell_type": "code",
      "execution_count": null,
      "id": "b0c9465f",
      "metadata": {
        "id": "b0c9465f",
        "outputId": "801cf7db-8fad-4d73-8ca0-f971f47369ac"
      },
      "outputs": [
        {
          "data": {
            "image/png": "[encoded data removed]",
            "text/plain": [
              "<Figure size 1200x600 with 2 Axes>"
            ]
          },
          "metadata": {},
          "output_type": "display_data"
        }
      ],
      "source": [
        "\n",
        "# Load the 'pickup_boroughs' GeoDataFrame from a file or another source\n",
        "pickup_boroughs = gpd.read_file(\"nyc-boroughs.geojson\")\n",
        "\n",
        "\n",
        "# Load the 'dropoff_boroughs' GeoDataFrame from a file or another source\n",
        "dropoff_boroughs = gpd.read_file(\"nyc-boroughs.geojson\")\n",
        "\n",
        "# Create subplots for side-by-side comparison\n",
        "fig, ax = plt.subplots(1, 2, figsize=(12, 6))\n",
        "\n",
        "# Plot pickup points\n",
        "pickup_boroughs.plot(column='borough', legend=True, ax=ax[0])\n",
        "ax[0].set_title(\"Pickup Points by Borough\")\n",
        "\n",
        "# Plot drop-off points\n",
        "dropoff_boroughs.plot(column='borough', legend=True, ax=ax[1])\n",
        "ax[1].set_title(\"Drop-off Points by Borough\")\n",
        "\n",
        "\n",
        "\n",
        "# Assuming you have the 'pickup_boroughs' and 'dropoff_boroughs' GeoDataFrames\n",
        "\n",
        "\n",
        "plt.show()"
      ]
    },
    {
      "cell_type": "code",
      "execution_count": null,
      "id": "968f3c93",
      "metadata": {
        "id": "968f3c93",
        "outputId": "07d95062-a84e-42b0-b56f-5a9d97e37763"
      },
      "outputs": [
        {
          "name": "stderr",
          "output_type": "stream",
          "text": [
            "/tmp/ipykernel_130/572660766.py:4: UserWarning: Geometry is in a geographic CRS. Results from 'area' are likely incorrect. Use 'GeoSeries.to_crs()' to re-project geometries to a projected CRS before this operation.\n",
            "\n",
            "  gdf['area'] = gdf.geometry.area\n",
            "[Stage 37:>                                                         (0 + 1) / 1]\r"
          ]
        },
        {
          "name": "stdout",
          "output_type": "stream",
          "text": [
            "+----------------+---------------+-----------------+----------------+--------------+---------------+\n",
            "|pickup_longitude|pickup_latitude|dropoff_longitude|dropoff_latitude|pickup_borough|dropoff_borough|\n",
            "+----------------+---------------+-----------------+----------------+--------------+---------------+\n",
            "|      -73.978165|      40.757977|       -73.989838|       40.751171|     Manhattan|      Manhattan|\n",
            "|      -74.006683|      40.731781|       -73.994499|        40.75066|     Manhattan|      Manhattan|\n",
            "|      -74.004707|       40.73777|       -74.009834|       40.726002|     Manhattan|      Manhattan|\n",
            "|      -73.974602|      40.759945|       -73.984734|       40.759388|     Manhattan|      Manhattan|\n",
            "|       -73.97625|      40.748528|       -74.002586|       40.747868|     Manhattan|      Manhattan|\n",
            "|      -73.966743|      40.764252|       -73.983322|       40.743763|     Manhattan|      Manhattan|\n",
            "|      -73.995804|      40.743977|       -74.007416|       40.744343|     Manhattan|      Manhattan|\n",
            "|      -73.989937|      40.756775|        -73.86525|        40.77063|     Manhattan|         Queens|\n",
            "|      -73.980072|      40.743137|       -73.982712|       40.735336|     Manhattan|      Manhattan|\n",
            "|      -73.977936|      40.786983|       -73.952919|        40.80637|     Manhattan|      Manhattan|\n",
            "|      -73.982452|      40.773167|       -73.964134|       40.773815|     Manhattan|      Manhattan|\n",
            "|       -73.99556|      40.749294|       -73.988686|       40.759052|     Manhattan|      Manhattan|\n",
            "|      -73.971497|      40.791321|       -73.964478|       40.775921|     Manhattan|      Manhattan|\n",
            "|       -73.98851|      40.774307|       -73.981094|       40.755325|     Manhattan|      Manhattan|\n",
            "|      -73.994911|      40.723221|       -73.971558|       40.761612|     Manhattan|      Manhattan|\n",
            "|      -74.010391|      40.708702|       -73.987846|       40.756104|     Manhattan|      Manhattan|\n",
            "|      -73.973732|      40.756287|       -73.998413|       40.756832|     Manhattan|      Manhattan|\n",
            "|      -73.968925|      40.767704|        -73.96199|       40.776566|     Manhattan|      Manhattan|\n",
            "|       -73.96212|      40.769737|       -73.979561|        40.75539|     Manhattan|      Manhattan|\n",
            "|      -73.989708|      40.756714|       -73.977615|       40.787575|     Manhattan|      Manhattan|\n",
            "+----------------+---------------+-----------------+----------------+--------------+---------------+\n",
            "only showing top 20 rows\n",
            "\n"
          ]
        },
        {
          "name": "stderr",
          "output_type": "stream",
          "text": [
            "                                                                                \r"
          ]
        }
      ],
      "source": [
        "\n",
        "# Load the GeoJSON file with boroughs using geopandas\n",
        "gdf = gpd.read_file(\"nyc-boroughs.geojson\")\n",
        "# Calculate the area of each polygon and add it as a new column\n",
        "gdf['area'] = gdf.geometry.area\n",
        "\n",
        "# Sort the GeoDataFrame by area in descending order\n",
        "sorted_gdf = gdf.sort_values(by='area', ascending=False)\n",
        "# Define a User Defined Function (UDF) to find the borough for a given point\n",
        "def get_borough(longitude, latitude):\n",
        "    point = Point(float(longitude), float(latitude))\n",
        "    for index, row in sorted_gdf.iterrows():\n",
        "        if row['geometry'].contains(point):\n",
        "            return row['borough']\n",
        "    return \"Unknown\"\n",
        "\n",
        "get_borough_udf = udf(get_borough, StringType())\n",
        "\n",
        "# Create new columns for pickup and drop-off boroughs\n",
        "df1 = df1.withColumn(\"pickup_borough\", get_borough_udf(df1[\"pickup_longitude\"], df1[\"pickup_latitude\"]))\n",
        "df1 = df1.withColumn(\"dropoff_borough\", get_borough_udf(df1[\"dropoff_longitude\"], df1[\"dropoff_latitude\"]))\n",
        "\n",
        "# Show the DataFrame with enriched data\n",
        "df1.select(\"pickup_longitude\",\"pickup_latitude\",\"dropoff_longitude\",\"dropoff_latitude\",\"pickup_borough\",\"dropoff_borough\").show()\n"
      ]
    },
    {
      "cell_type": "code",
      "execution_count": null,
      "id": "ca7f3c3d",
      "metadata": {
        "id": "ca7f3c3d",
        "outputId": "631f25e3-5d9e-427b-a57f-1ff17222f3ad"
      },
      "outputs": [
        {
          "name": "stderr",
          "output_type": "stream",
          "text": [
            "                                                                                \r"
          ]
        }
      ],
      "source": [
        "df1_pandas=df1.toPandas()"
      ]
    },
    {
      "cell_type": "code",
      "execution_count": null,
      "id": "b34b1155",
      "metadata": {
        "id": "b34b1155",
        "outputId": "7319b464-d996-4e84-d6ef-c73057f3e639"
      },
      "outputs": [
        {
          "data": {
            "text/plain": [
              "99999"
            ]
          },
          "execution_count": 63,
          "metadata": {},
          "output_type": "execute_result"
        }
      ],
      "source": [
        "len(df1_pandas)"
      ]
    },
    {
      "cell_type": "code",
      "execution_count": null,
      "id": "5de87d4b",
      "metadata": {
        "id": "5de87d4b"
      },
      "outputs": [],
      "source": [
        "condition=df1_pandas[\"pickup_borough\"]==\"Unknown\"\n"
      ]
    },
    {
      "cell_type": "code",
      "execution_count": null,
      "id": "110cab23",
      "metadata": {
        "id": "110cab23"
      },
      "outputs": [],
      "source": [
        "df1_pandas_test=df1_pandas[condition]"
      ]
    },
    {
      "cell_type": "code",
      "execution_count": null,
      "id": "1a111c05",
      "metadata": {
        "id": "1a111c05",
        "outputId": "cea2ca1a-52f7-4a5b-a074-d02754ce7282"
      },
      "outputs": [
        {
          "data": {
            "text/html": [
              "<div>\n",
              "<style scoped>\n",
              "    .dataframe tbody tr th:only-of-type {\n",
              "        vertical-align: middle;\n",
              "    }\n",
              "\n",
              "    .dataframe tbody tr th {\n",
              "        vertical-align: top;\n",
              "    }\n",
              "\n",
              "    .dataframe thead th {\n",
              "        text-align: right;\n",
              "    }\n",
              "</style>\n",
              "<table border=\"1\" class=\"dataframe\">\n",
              "  <thead>\n",
              "    <tr style=\"text-align: right;\">\n",
              "      <th></th>\n",
              "      <th>medallion</th>\n",
              "      <th>hack_license</th>\n",
              "      <th>pickup_datetime</th>\n",
              "      <th>dropoff_datetime</th>\n",
              "      <th>passenger_count</th>\n",
              "      <th>pickup_longitude</th>\n",
              "      <th>pickup_latitude</th>\n",
              "      <th>dropoff_longitude</th>\n",
              "      <th>dropoff_latitude</th>\n",
              "      <th>pickup_borough</th>\n",
              "      <th>dropoff_borough</th>\n",
              "    </tr>\n",
              "  </thead>\n",
              "  <tbody>\n",
              "    <tr>\n",
              "      <th>73</th>\n",
              "      <td>DDB3F3E0172B1FBF0C9E39CA773CC6E3</td>\n",
              "      <td>559F071794B7213986693B57DCEDDEE5</td>\n",
              "      <td>07-01-13 22:19</td>\n",
              "      <td>07-01-13 22:39</td>\n",
              "      <td>1</td>\n",
              "      <td>0.0</td>\n",
              "      <td>0.0</td>\n",
              "      <td>0.0</td>\n",
              "      <td>0.0</td>\n",
              "      <td>Unknown</td>\n",
              "      <td>Unknown</td>\n",
              "    </tr>\n",
              "    <tr>\n",
              "      <th>95</th>\n",
              "      <td>0428E3DD09EA5A63D85509C7CA8C0199</td>\n",
              "      <td>A4B0B563E94A1C3ADA0B308161EDCB5A</td>\n",
              "      <td>07-01-13 16:19</td>\n",
              "      <td>07-01-13 16:24</td>\n",
              "      <td>1</td>\n",
              "      <td>0.0</td>\n",
              "      <td>0.0</td>\n",
              "      <td>0.0</td>\n",
              "      <td>0.0</td>\n",
              "      <td>Unknown</td>\n",
              "      <td>Unknown</td>\n",
              "    </tr>\n",
              "    <tr>\n",
              "      <th>99</th>\n",
              "      <td>DDB3F3E0172B1FBF0C9E39CA773CC6E3</td>\n",
              "      <td>559F071794B7213986693B57DCEDDEE5</td>\n",
              "      <td>07-01-13 18:42</td>\n",
              "      <td>07-01-13 18:49</td>\n",
              "      <td>1</td>\n",
              "      <td>0.0</td>\n",
              "      <td>0.0</td>\n",
              "      <td>0.0</td>\n",
              "      <td>0.0</td>\n",
              "      <td>Unknown</td>\n",
              "      <td>Unknown</td>\n",
              "    </tr>\n",
              "    <tr>\n",
              "      <th>100</th>\n",
              "      <td>DDB3F3E0172B1FBF0C9E39CA773CC6E3</td>\n",
              "      <td>559F071794B7213986693B57DCEDDEE5</td>\n",
              "      <td>07-01-13 20:19</td>\n",
              "      <td>07-01-13 20:23</td>\n",
              "      <td>1</td>\n",
              "      <td>0.0</td>\n",
              "      <td>0.0</td>\n",
              "      <td>0.0</td>\n",
              "      <td>0.0</td>\n",
              "      <td>Unknown</td>\n",
              "      <td>Unknown</td>\n",
              "    </tr>\n",
              "    <tr>\n",
              "      <th>199</th>\n",
              "      <td>6F70DA82F52A1281E4E6646AE996D25A</td>\n",
              "      <td>4103ADCF50D18CFE25AB616F368A5945</td>\n",
              "      <td>13-01-13 4:38</td>\n",
              "      <td>13-01-13 4:44</td>\n",
              "      <td>2</td>\n",
              "      <td>0.0</td>\n",
              "      <td>0.0</td>\n",
              "      <td>0.0</td>\n",
              "      <td>0.0</td>\n",
              "      <td>Unknown</td>\n",
              "      <td>Unknown</td>\n",
              "    </tr>\n",
              "    <tr>\n",
              "      <th>...</th>\n",
              "      <td>...</td>\n",
              "      <td>...</td>\n",
              "      <td>...</td>\n",
              "      <td>...</td>\n",
              "      <td>...</td>\n",
              "      <td>...</td>\n",
              "      <td>...</td>\n",
              "      <td>...</td>\n",
              "      <td>...</td>\n",
              "      <td>...</td>\n",
              "      <td>...</td>\n",
              "    </tr>\n",
              "    <tr>\n",
              "      <th>99759</th>\n",
              "      <td>1E2518C5129CB39312FBC7601C6D20ED</td>\n",
              "      <td>A736098D0C7144E35AA10EDB13F30F32</td>\n",
              "      <td>13-01-13 18:47</td>\n",
              "      <td>13-01-13 18:59</td>\n",
              "      <td>1</td>\n",
              "      <td>0.0</td>\n",
              "      <td>0.0</td>\n",
              "      <td>0.0</td>\n",
              "      <td>0.0</td>\n",
              "      <td>Unknown</td>\n",
              "      <td>Unknown</td>\n",
              "    </tr>\n",
              "    <tr>\n",
              "      <th>99825</th>\n",
              "      <td>6F28ECF71E4400A1BBF94EE809238BDC</td>\n",
              "      <td>7A2019218608E584ECA826E19C92851A</td>\n",
              "      <td>13-01-13 19:29</td>\n",
              "      <td>13-01-13 19:39</td>\n",
              "      <td>5</td>\n",
              "      <td>0.0</td>\n",
              "      <td>0.0</td>\n",
              "      <td>0.0</td>\n",
              "      <td>0.0</td>\n",
              "      <td>Unknown</td>\n",
              "      <td>Unknown</td>\n",
              "    </tr>\n",
              "    <tr>\n",
              "      <th>99886</th>\n",
              "      <td>D03EFBB5896A151FEB225F5DE544B88E</td>\n",
              "      <td>6FE0B1BAF7C02770543368A3AE37B7C9</td>\n",
              "      <td>13-01-13 19:27</td>\n",
              "      <td>13-01-13 19:34</td>\n",
              "      <td>1</td>\n",
              "      <td>0.0</td>\n",
              "      <td>0.0</td>\n",
              "      <td>0.0</td>\n",
              "      <td>0.0</td>\n",
              "      <td>Unknown</td>\n",
              "      <td>Unknown</td>\n",
              "    </tr>\n",
              "    <tr>\n",
              "      <th>99899</th>\n",
              "      <td>BE0396EBC842E52F724D6E724900C117</td>\n",
              "      <td>2A43B8DCB392C65C552DF21BDFE4D70F</td>\n",
              "      <td>13-01-13 17:36</td>\n",
              "      <td>13-01-13 17:36</td>\n",
              "      <td>1</td>\n",
              "      <td>0.0</td>\n",
              "      <td>0.0</td>\n",
              "      <td>0.0</td>\n",
              "      <td>0.0</td>\n",
              "      <td>Unknown</td>\n",
              "      <td>Unknown</td>\n",
              "    </tr>\n",
              "    <tr>\n",
              "      <th>99989</th>\n",
              "      <td>11FA7B67C4A21E1D7235E7D7EFC873AF</td>\n",
              "      <td>56B3D4A55C62CFFECA7BCCD7E01413D7</td>\n",
              "      <td>13-01-13 19:33</td>\n",
              "      <td>13-01-13 19:41</td>\n",
              "      <td>3</td>\n",
              "      <td>0.0</td>\n",
              "      <td>0.0</td>\n",
              "      <td>0.0</td>\n",
              "      <td>0.0</td>\n",
              "      <td>Unknown</td>\n",
              "      <td>Unknown</td>\n",
              "    </tr>\n",
              "  </tbody>\n",
              "</table>\n",
              "<p>1940 rows × 11 columns</p>\n",
              "</div>"
            ],
            "text/plain": [
              "                              medallion                      hack_license  \\\n",
              "73     DDB3F3E0172B1FBF0C9E39CA773CC6E3  559F071794B7213986693B57DCEDDEE5   \n",
              "95     0428E3DD09EA5A63D85509C7CA8C0199  A4B0B563E94A1C3ADA0B308161EDCB5A   \n",
              "99     DDB3F3E0172B1FBF0C9E39CA773CC6E3  559F071794B7213986693B57DCEDDEE5   \n",
              "100    DDB3F3E0172B1FBF0C9E39CA773CC6E3  559F071794B7213986693B57DCEDDEE5   \n",
              "199    6F70DA82F52A1281E4E6646AE996D25A  4103ADCF50D18CFE25AB616F368A5945   \n",
              "...                                 ...                               ...   \n",
              "99759  1E2518C5129CB39312FBC7601C6D20ED  A736098D0C7144E35AA10EDB13F30F32   \n",
              "99825  6F28ECF71E4400A1BBF94EE809238BDC  7A2019218608E584ECA826E19C92851A   \n",
              "99886  D03EFBB5896A151FEB225F5DE544B88E  6FE0B1BAF7C02770543368A3AE37B7C9   \n",
              "99899  BE0396EBC842E52F724D6E724900C117  2A43B8DCB392C65C552DF21BDFE4D70F   \n",
              "99989  11FA7B67C4A21E1D7235E7D7EFC873AF  56B3D4A55C62CFFECA7BCCD7E01413D7   \n",
              "\n",
              "      pickup_datetime dropoff_datetime  passenger_count  pickup_longitude  \\\n",
              "73     07-01-13 22:19   07-01-13 22:39                1               0.0   \n",
              "95     07-01-13 16:19   07-01-13 16:24                1               0.0   \n",
              "99     07-01-13 18:42   07-01-13 18:49                1               0.0   \n",
              "100    07-01-13 20:19   07-01-13 20:23                1               0.0   \n",
              "199     13-01-13 4:38    13-01-13 4:44                2               0.0   \n",
              "...               ...              ...              ...               ...   \n",
              "99759  13-01-13 18:47   13-01-13 18:59                1               0.0   \n",
              "99825  13-01-13 19:29   13-01-13 19:39                5               0.0   \n",
              "99886  13-01-13 19:27   13-01-13 19:34                1               0.0   \n",
              "99899  13-01-13 17:36   13-01-13 17:36                1               0.0   \n",
              "99989  13-01-13 19:33   13-01-13 19:41                3               0.0   \n",
              "\n",
              "       pickup_latitude  dropoff_longitude  dropoff_latitude pickup_borough  \\\n",
              "73                 0.0                0.0               0.0        Unknown   \n",
              "95                 0.0                0.0               0.0        Unknown   \n",
              "99                 0.0                0.0               0.0        Unknown   \n",
              "100                0.0                0.0               0.0        Unknown   \n",
              "199                0.0                0.0               0.0        Unknown   \n",
              "...                ...                ...               ...            ...   \n",
              "99759              0.0                0.0               0.0        Unknown   \n",
              "99825              0.0                0.0               0.0        Unknown   \n",
              "99886              0.0                0.0               0.0        Unknown   \n",
              "99899              0.0                0.0               0.0        Unknown   \n",
              "99989              0.0                0.0               0.0        Unknown   \n",
              "\n",
              "      dropoff_borough  \n",
              "73            Unknown  \n",
              "95            Unknown  \n",
              "99            Unknown  \n",
              "100           Unknown  \n",
              "199           Unknown  \n",
              "...               ...  \n",
              "99759         Unknown  \n",
              "99825         Unknown  \n",
              "99886         Unknown  \n",
              "99899         Unknown  \n",
              "99989         Unknown  \n",
              "\n",
              "[1940 rows x 11 columns]"
            ]
          },
          "execution_count": 67,
          "metadata": {},
          "output_type": "execute_result"
        }
      ],
      "source": [
        "df1_pandas_test"
      ]
    },
    {
      "cell_type": "markdown",
      "id": "548bd6db",
      "metadata": {
        "id": "548bd6db"
      },
      "source": [
        "#### **Pick_Up_hour/Drop_Off_hour**"
      ]
    },
    {
      "cell_type": "code",
      "execution_count": null,
      "id": "fcebc9e0",
      "metadata": {
        "id": "fcebc9e0"
      },
      "outputs": [],
      "source": [
        "df2=df1.alias(\"df1\")\n"
      ]
    },
    {
      "cell_type": "code",
      "execution_count": null,
      "id": "65e77bba",
      "metadata": {
        "id": "65e77bba"
      },
      "outputs": [],
      "source": [
        "spark.conf.set(\"spark.sql.legacy.timeParserPolicy\", \"LEGACY\")"
      ]
    },
    {
      "cell_type": "code",
      "execution_count": null,
      "id": "ee1a0b04",
      "metadata": {
        "id": "ee1a0b04"
      },
      "outputs": [],
      "source": [
        "df2=(df2\n",
        "     # Convert \"pickup_datetime\" and \"dropoff_datetime\" columns to timestamp format\n",
        "     .withColumn(\"pickup_datetime\", F.to_timestamp(F.col(\"pickup_datetime\"), \"dd-MM-yy HH:mm\"))\n",
        "     .withColumn(\"dropoff_datetime\",F.to_timestamp(F.col(\"dropoff_datetime\"), \"dd-MM-yy HH:mm\"))\n",
        "     # Create \"hour_pickup\" and \"hour_dropoff\" columns with \"HH:mm\" format\n",
        "     .withColumn(\"hour_pickup\",F.concat(F.lpad(F.hour(\"pickup_datetime\"), 2, '0'),\n",
        "                                             F.lit(\":\"),\n",
        "                                             F.lpad(F.minute(\"pickup_datetime\"), 2, '0')))\n",
        "     .withColumn(\"hour_dropoff\",F.concat(F.lpad(F.hour(\"dropoff_datetime\"), 2, '0'),\n",
        "                                             F.lit(\":\"),\n",
        "                                             F.lpad(F.minute(\"dropoff_datetime\"), 2, '0')))\n",
        "\n",
        "     )\n",
        "\n"
      ]
    },
    {
      "cell_type": "code",
      "execution_count": null,
      "id": "2b1c1527",
      "metadata": {
        "id": "2b1c1527",
        "outputId": "9b2a7534-1190-46d9-d00a-cd4f969436cf"
      },
      "outputs": [
        {
          "name": "stdout",
          "output_type": "stream",
          "text": [
            "+-------------------+-------------------+-----------+-----------+\n",
            "|    pickup_datetime|   dropoff_datetime|hour_pickup|hour_pickup|\n",
            "+-------------------+-------------------+-----------+-----------+\n",
            "|2013-01-01 15:11:00|2013-01-01 15:18:00|      15:11|      15:11|\n",
            "|2013-01-06 00:18:00|2013-01-06 00:22:00|      00:18|      00:18|\n",
            "|2013-01-05 18:49:00|2013-01-05 18:54:00|      18:49|      18:49|\n",
            "|2013-01-07 23:54:00|2013-01-07 23:58:00|      23:54|      23:54|\n",
            "|2013-01-07 23:25:00|2013-01-07 23:34:00|      23:25|      23:25|\n",
            "|2013-01-07 15:27:00|2013-01-07 15:38:00|      15:27|      15:27|\n",
            "|2013-01-08 11:01:00|2013-01-08 11:08:00|      11:01|      11:01|\n",
            "|2013-01-07 12:39:00|2013-01-07 13:10:00|      12:39|      12:39|\n",
            "|2013-01-07 18:15:00|2013-01-07 18:20:00|      18:15|      18:15|\n",
            "|2013-01-07 15:33:00|2013-01-07 15:49:00|      15:33|      15:33|\n",
            "|2013-01-08 13:11:00|2013-01-08 13:19:00|      13:11|      13:11|\n",
            "|2013-01-08 09:50:00|2013-01-08 10:02:00|      09:50|      09:50|\n",
            "|2013-01-10 12:07:00|2013-01-10 12:17:00|      12:07|      12:07|\n",
            "|2013-01-07 07:35:00|2013-01-07 07:46:00|      07:35|      07:35|\n",
            "|2013-01-10 15:42:00|2013-01-10 16:04:00|      15:42|      15:42|\n",
            "|2013-01-10 14:27:00|2013-01-10 14:45:00|      14:27|      14:27|\n",
            "|2013-01-07 22:09:00|2013-01-07 22:19:00|      22:09|      22:09|\n",
            "|2013-01-07 17:18:00|2013-01-07 17:20:00|      17:18|      17:18|\n",
            "|2013-01-07 06:08:00|2013-01-07 06:13:00|      06:08|      06:08|\n",
            "|2013-01-07 22:25:00|2013-01-07 22:36:00|      22:25|      22:25|\n",
            "+-------------------+-------------------+-----------+-----------+\n",
            "only showing top 20 rows\n",
            "\n"
          ]
        }
      ],
      "source": [
        "df2.select(\"pickup_datetime\",\"dropoff_datetime\",\"hour_pickup\",\"hour_pickup\").show()"
      ]
    },
    {
      "cell_type": "markdown",
      "id": "a76a9d02",
      "metadata": {
        "id": "a76a9d02"
      },
      "source": [
        "## **Number_of_trips_same_borough : Query 3**"
      ]
    },
    {
      "cell_type": "code",
      "execution_count": null,
      "id": "1f1350e7",
      "metadata": {
        "id": "1f1350e7"
      },
      "outputs": [],
      "source": [
        "df2.createOrReplaceTempView(\"taxi_trips\")\n"
      ]
    },
    {
      "cell_type": "code",
      "execution_count": null,
      "id": "b7b61196",
      "metadata": {
        "id": "b7b61196"
      },
      "outputs": [],
      "source": [
        "trips_within_same_borough = spark.sql(\"\"\"\n",
        "    SELECT\n",
        "        pickup_borough,\n",
        "        dropoff_borough,\n",
        "        COUNT(*) AS number_of_trips\n",
        "    FROM taxi_trips\n",
        "    WHERE pickup_borough = dropoff_borough\n",
        "    GROUP BY pickup_borough, dropoff_borough\n",
        "\"\"\")"
      ]
    },
    {
      "cell_type": "code",
      "execution_count": null,
      "id": "bf36d3ba",
      "metadata": {
        "id": "bf36d3ba",
        "outputId": "f5827b5e-c898-47de-a902-bb7c5012ae34"
      },
      "outputs": [
        {
          "name": "stderr",
          "output_type": "stream",
          "text": [
            "                                                                                \r"
          ]
        },
        {
          "name": "stdout",
          "output_type": "stream",
          "text": [
            "+--------------+---------------+---------------+\n",
            "|pickup_borough|dropoff_borough|number_of_trips|\n",
            "+--------------+---------------+---------------+\n",
            "|     Manhattan|      Manhattan|          83561|\n",
            "|      Brooklyn|       Brooklyn|           1065|\n",
            "|        Queens|         Queens|           1396|\n",
            "|         Bronx|          Bronx|             51|\n",
            "|       Unknown|        Unknown|           1805|\n",
            "| Staten Island|  Staten Island|              1|\n",
            "+--------------+---------------+---------------+\n",
            "\n"
          ]
        },
        {
          "name": "stderr",
          "output_type": "stream",
          "text": [
            "                                                                                \r"
          ]
        }
      ],
      "source": [
        "trips_within_same_borough.show()"
      ]
    },
    {
      "cell_type": "markdown",
      "id": "d4216944",
      "metadata": {
        "id": "d4216944"
      },
      "source": [
        "## **Number_of_trips_across_borough : Query 4**"
      ]
    },
    {
      "cell_type": "code",
      "execution_count": null,
      "id": "e328ffea",
      "metadata": {
        "id": "e328ffea"
      },
      "outputs": [],
      "source": [
        "trips_across_boroughs = spark.sql(\"\"\"\n",
        "    SELECT\n",
        "        pickup_borough,\n",
        "        dropoff_borough,\n",
        "        COUNT(*) AS number_of_trips\n",
        "    FROM taxi_trips\n",
        "    WHERE pickup_borough <> dropoff_borough\n",
        "    GROUP BY pickup_borough, dropoff_borough\n",
        "\"\"\")"
      ]
    },
    {
      "cell_type": "code",
      "execution_count": null,
      "id": "066f1ade",
      "metadata": {
        "id": "066f1ade",
        "outputId": "3617ecaf-952f-47a4-d9ad-8be215b1e18f"
      },
      "outputs": [
        {
          "name": "stderr",
          "output_type": "stream",
          "text": [
            "                                                                                \r"
          ]
        },
        {
          "name": "stdout",
          "output_type": "stream",
          "text": [
            "+--------------+---------------+---------------+\n",
            "|pickup_borough|dropoff_borough|number_of_trips|\n",
            "+--------------+---------------+---------------+\n",
            "|      Brooklyn|      Manhattan|            774|\n",
            "|        Queens|          Bronx|            100|\n",
            "|         Bronx|         Queens|              2|\n",
            "| Staten Island|         Queens|              1|\n",
            "|       Unknown|      Manhattan|            106|\n",
            "|      Brooklyn|         Queens|            115|\n",
            "|        Queens|  Staten Island|              2|\n",
            "|     Manhattan|  Staten Island|              9|\n",
            "|        Queens|        Unknown|            119|\n",
            "|     Manhattan|       Brooklyn|           1923|\n",
            "|       Unknown|         Queens|             18|\n",
            "|       Unknown|  Staten Island|              1|\n",
            "|     Manhattan|         Queens|           3943|\n",
            "|      Brooklyn|        Unknown|             11|\n",
            "|     Manhattan|          Bronx|            244|\n",
            "|        Queens|      Manhattan|           3698|\n",
            "|         Bronx|      Manhattan|             25|\n",
            "|       Unknown|       Brooklyn|             10|\n",
            "|         Bronx|        Unknown|              3|\n",
            "|        Queens|       Brooklyn|            597|\n",
            "+--------------+---------------+---------------+\n",
            "only showing top 20 rows\n",
            "\n"
          ]
        }
      ],
      "source": [
        "trips_across_boroughs.show()"
      ]
    },
    {
      "cell_type": "markdown",
      "id": "6f07ac9e",
      "metadata": {
        "id": "6f07ac9e"
      },
      "source": [
        "### **Preprocesing : Time Interval calculation for Utilization**\n"
      ]
    },
    {
      "cell_type": "code",
      "execution_count": null,
      "id": "b847f998",
      "metadata": {
        "id": "b847f998"
      },
      "outputs": [],
      "source": [
        "df3=df2.alias('df2')"
      ]
    },
    {
      "cell_type": "code",
      "execution_count": null,
      "id": "706a9440",
      "metadata": {
        "id": "706a9440"
      },
      "outputs": [],
      "source": [
        "# Define a window specification for partitioning and ordering\n",
        "\n",
        "windowSpec = Window.partitionBy(\"medallion\",\"hack_license\").orderBy(\"hour_pickup\")\n"
      ]
    },
    {
      "cell_type": "code",
      "execution_count": null,
      "id": "98a60789",
      "metadata": {
        "id": "98a60789"
      },
      "outputs": [],
      "source": [
        "df3= df3.withColumn(\"previous_dropoff_time\", F.lag(df3[\"hour_dropoff\"]).over(windowSpec))\n"
      ]
    },
    {
      "cell_type": "code",
      "execution_count": null,
      "id": "7b1747ae",
      "metadata": {
        "id": "7b1747ae"
      },
      "outputs": [],
      "source": [
        "# Convert the \"heure_debut\" and \"heure_fin_precedente\" columns to Unix timestamps\n",
        "df3 = df3.withColumn(\"pickup_hour_unix\", unix_timestamp(df3[\"hour_pickup\"], \"HH:mm\"))\n",
        "df3 = df3.withColumn(\"previous_dropoff_time_unix\", unix_timestamp(df3[\"previous_dropoff_time\"], \"HH:mm\"))\n",
        "\n",
        "# Calculate the difference in hours\n",
        "df3 = df3.withColumn(\"diff_hours\", (df3[\"pickup_hour_unix\"] - df3[\"previous_dropoff_time_unix\"]) / 3600)\n",
        "\n",
        "# Drop Unix timestamp columns if necessary\n",
        "df3 = df3.drop(\"pickup_hour_unix\", \"previous_dropoff_time_unix\")\n"
      ]
    },
    {
      "cell_type": "code",
      "execution_count": null,
      "id": "fd5e69a2",
      "metadata": {
        "id": "fd5e69a2"
      },
      "outputs": [],
      "source": [
        "# Remove records with NULL values in the \"previous_dropoff_time\" column\n",
        "df3= df3.filter(df3[\"previous_dropoff_time\"].isNotNull())"
      ]
    },
    {
      "cell_type": "markdown",
      "id": "55935c70",
      "metadata": {
        "id": "55935c70"
      },
      "source": [
        "## **Compute Utilization : Query 1**"
      ]
    },
    {
      "cell_type": "code",
      "execution_count": null,
      "id": "578b9807",
      "metadata": {
        "id": "578b9807"
      },
      "outputs": [],
      "source": [
        "df4=df3.alias('df3')"
      ]
    },
    {
      "cell_type": "code",
      "execution_count": null,
      "id": "add55df7",
      "metadata": {
        "id": "add55df7"
      },
      "outputs": [],
      "source": [
        "# Filter the DataFrame to keep only rows where the \"diff_hours\" column is less than 4\n",
        "df4= df4.filter(col(\"diff_hours\") < 4)\n"
      ]
    },
    {
      "cell_type": "code",
      "execution_count": null,
      "id": "3ff0078b",
      "metadata": {
        "id": "3ff0078b"
      },
      "outputs": [],
      "source": [
        "df4_Utilization=df4.alias(\"df4\")"
      ]
    },
    {
      "cell_type": "code",
      "execution_count": null,
      "id": "2e9e8481",
      "metadata": {
        "id": "2e9e8481"
      },
      "outputs": [],
      "source": [
        "df4_Utilization= df4_Utilization.groupBy(\"dropoff_borough\").agg({\"diff_hours\": \"sum\"})\n"
      ]
    },
    {
      "cell_type": "code",
      "execution_count": null,
      "id": "5fba92c7",
      "metadata": {
        "id": "5fba92c7",
        "outputId": "57bf9b78-7e06-4693-8475-9d56868ebb1f"
      },
      "outputs": [
        {
          "name": "stderr",
          "output_type": "stream",
          "text": [
            "                                                                                \r"
          ]
        },
        {
          "name": "stdout",
          "output_type": "stream",
          "text": [
            "+---------------+------------------+\n",
            "|dropoff_borough|   sum(diff_hours)|\n",
            "+---------------+------------------+\n",
            "|         Queens|2056.1666666666656|\n",
            "|        Unknown|  828.566666666667|\n",
            "|       Brooklyn|1117.6166666666659|\n",
            "|  Staten Island|0.8666666666666666|\n",
            "|      Manhattan|21311.666666666628|\n",
            "|          Bronx| 127.7333333333333|\n",
            "+---------------+------------------+\n",
            "\n"
          ]
        }
      ],
      "source": [
        "df4_Utilization.show()"
      ]
    },
    {
      "cell_type": "markdown",
      "id": "dfe178f9",
      "metadata": {
        "id": "dfe178f9"
      },
      "source": [
        "## **AVG Time to next Trips : Query2**\n"
      ]
    },
    {
      "cell_type": "code",
      "execution_count": null,
      "id": "6d2a250a",
      "metadata": {
        "id": "6d2a250a"
      },
      "outputs": [],
      "source": [
        "df5=df2.alias(\"df2\")"
      ]
    },
    {
      "cell_type": "code",
      "execution_count": null,
      "id": "aca1f142",
      "metadata": {
        "id": "aca1f142"
      },
      "outputs": [],
      "source": [
        "# Calculate the time to the next pickup for each row\n",
        "df5 = df5.withColumn(\"next_pickup_time\", lead(\"pickup_datetime\").over(Window.partitionBy(\"medallion\").orderBy(\"pickup_datetime\")))\n",
        "\n",
        "# Calculate the time difference in seconds\n",
        "df5 = df5.withColumn(\"time_to_next_trip\", (unix_timestamp(\"next_pickup_time\") - unix_timestamp(\"dropoff_datetime\")))\n",
        "\n",
        "# Filter records where the time difference is positive (next trips)\n",
        "df5 = df5.filter(col(\"time_to_next_trip\") > 0)\n",
        "\n",
        "# Group by destination borough and calculate the average time to the next trip\n",
        "df5_avg_time_next_trip = df5.groupBy(\"dropoff_borough\").agg(avg(\"time_to_next_trip\").alias(\"avg_time_to_next_trip\"))\n"
      ]
    },
    {
      "cell_type": "code",
      "execution_count": null,
      "id": "a7eced36",
      "metadata": {
        "id": "a7eced36",
        "outputId": "a18682ab-31a2-49f0-817a-e33fd2ad2228"
      },
      "outputs": [
        {
          "name": "stderr",
          "output_type": "stream",
          "text": [
            "                                                                                \r"
          ]
        },
        {
          "name": "stdout",
          "output_type": "stream",
          "text": [
            "+---------------+---------------------+\n",
            "|dropoff_borough|avg_time_to_next_trip|\n",
            "+---------------+---------------------+\n",
            "|         Queens|    6389.721592080841|\n",
            "|        Unknown|    12310.46313799622|\n",
            "|       Brooklyn|   6581.6850047154985|\n",
            "|  Staten Island|              13935.0|\n",
            "|      Manhattan|   2077.1937111374436|\n",
            "|          Bronx|    4973.719008264463|\n",
            "+---------------+---------------------+\n",
            "\n"
          ]
        }
      ],
      "source": [
        "df5_avg_time_next_trip.show()"
      ]
    },
    {
      "cell_type": "code",
      "execution_count": null,
      "id": "863b312c",
      "metadata": {
        "id": "863b312c"
      },
      "outputs": [],
      "source": []
    },
    {
      "cell_type": "code",
      "execution_count": null,
      "id": "f514c59d",
      "metadata": {
        "id": "f514c59d"
      },
      "outputs": [],
      "source": []
    }
  ],
  "metadata": {
    "kernelspec": {
      "display_name": "Python 3 (ipykernel)",
      "language": "python",
      "name": "python3"
    },
    "language_info": {
      "codemirror_mode": {
        "name": "ipython",
        "version": 3
      },
      "file_extension": ".py",
      "mimetype": "text/x-python",
      "name": "python",
      "nbconvert_exporter": "python",
      "pygments_lexer": "ipython3",
      "version": "3.9.2"
    },
    "colab": {
      "provenance": []
    }
  },
  "nbformat": 4,
  "nbformat_minor": 5
}